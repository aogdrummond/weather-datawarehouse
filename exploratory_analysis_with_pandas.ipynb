{
 "cells": [
  {
   "cell_type": "markdown",
   "metadata": {},
   "source": [
    "### Import Requirements"
   ]
  },
  {
   "cell_type": "code",
   "execution_count": null,
   "metadata": {},
   "outputs": [],
   "source": [
    "import pandas as pd\n",
    "import json\n",
    "import os"
   ]
  },
  {
   "cell_type": "markdown",
   "metadata": {},
   "source": [
    "### From local json's to Pandas DataFrame"
   ]
  },
  {
   "cell_type": "code",
   "execution_count": null,
   "metadata": {},
   "outputs": [],
   "source": [
    "path = 'storage/current/20231223/'\n",
    "json_names = os.listdir(path)\n",
    "jsons = []\n",
    "for name in json_names:\n",
    "    json_path = path+name\n",
    "    with open(json_path,'r') as f:\n",
    "        jsons.append(json.load(f))\n",
    "# Create dataframe from jsons\n",
    "df = pd.json_normalize(jsons)\n",
    "# Rename columns to be identifiable\n",
    "df.columns = ['City','Region','Country','Lat','Long','TZ_ID','Localtime_Epoch', \\\n",
    "             'Localtime','Last_updated_epoch','Last_Updated','Temp_C','Temp_F', \\\n",
    "             'Is_day','Condition.Text','Condition.Icon','Condition.Code', \\\n",
    "             'Wind_mph','Wind_kph','Wind_degree','Wind_dir','Pressure_mb', \\\n",
    "             'Pressure_in','Precip_mm','Precip_in','Humidity','Cloud','Feelslike_c', \\\n",
    "             'Feeslike_f','Vis_km','Vis_miles','UV','Gust_mph','Gust_kph']\n"
   ]
  },
  {
   "cell_type": "markdown",
   "metadata": {},
   "source": [
    "### Analyse DataFrame structure to identify required transformation"
   ]
  },
  {
   "cell_type": "code",
   "execution_count": null,
   "metadata": {},
   "outputs": [],
   "source": [
    "# Look for nan values\n",
    "print(df.isna().any())\n",
    "#Verify current dtypes and determine any transformation required\n",
    "print(df.dtypes)"
   ]
  },
  {
   "cell_type": "markdown",
   "metadata": {},
   "source": [
    "### Removing redundant data"
   ]
  },
  {
   "cell_type": "code",
   "execution_count": null,
   "metadata": {},
   "outputs": [],
   "source": [
    "df.dtypes\n",
    "location = ['City','Region','Country','Lat','Long','TZ_ID','Localtime','Last_Updated']\n",
    "weather = ['Condition.Text','Condition.Code','Temp_C','Wind_kph','Wind_degree','Wind_dir','Pressure_in','Precip_mm','Humidity','Cloud','Feelslike_c','Vis_km','UV','Gust_kph']\n",
    "\n",
    "df[location+weather].head()"
   ]
  },
  {
   "cell_type": "markdown",
   "metadata": {},
   "source": [
    "### Transformations required:\n",
    "- Datetime from strings (Localtime and Last_Updated)\n",
    "- If data is not identifiable (null City or null Lat or Long), drop full row\n",
    "- If any of those is null but is still identifiable, complete it with info in the DB\n",
    "- Accept Null values for any other field since the data can still be used"
   ]
  },
  {
   "cell_type": "markdown",
   "metadata": {},
   "source": [
    "### Astronomy data "
   ]
  },
  {
   "cell_type": "code",
   "execution_count": null,
   "metadata": {},
   "outputs": [],
   "source": [
    "path = 'storage/astronomy/20231223/'\n",
    "json_names = os.listdir(path)\n",
    "jsons = []\n",
    "for name in json_names:\n",
    "    json_path = path+name\n",
    "    with open(json_path,'r') as f:\n",
    "        jsons.append(json.load(f))\n",
    "# Create dataframe from jsons\n",
    "df = pd.json_normalize(jsons)\n",
    "df.columns = ['City','Region','Country','Lat','Long','TZ_ID','Localtime_epoch','Localtime',\\\n",
    "              'Sunrise','Sunset','Moonrise','Moonset','Moon_Phase','Moon_Ilumination','Moon_Up','Moon_Down']\n",
    "df.dtypes\n",
    "\n",
    "# If not identifiable, drop row\n",
    "# Transform in datetime Localtime, Sunrise, Sunset, Moonrise, Moonset"
   ]
  },
  {
   "cell_type": "markdown",
   "metadata": {},
   "source": [
    "### Removing redundant data"
   ]
  },
  {
   "cell_type": "code",
   "execution_count": null,
   "metadata": {},
   "outputs": [],
   "source": [
    "location = ['City','Region','Country','Lat','Long','TZ_ID','Localtime'] \n",
    "astro = ['Sunrise','Sunset','Moonrise','Moonset','Moon_Phase','Moon_Ilumination','Moon_Up','Moon_Down']\n",
    "df[location+astro].head()"
   ]
  },
  {
   "cell_type": "markdown",
   "metadata": {},
   "source": [
    "### Transformations required:\n",
    "- If not identifiable, drop row\n",
    "- Datetime from strings for : Localtime, Sunrise, Sunset, Moonrise and Moonset\n",
    "- ..."
   ]
  },
  {
   "cell_type": "markdown",
   "metadata": {},
   "source": [
    "### Marine Data"
   ]
  },
  {
   "cell_type": "code",
   "execution_count": null,
   "metadata": {},
   "outputs": [],
   "source": [
    "path = 'storage/marine/20231223/'\n",
    "json_names = os.listdir(path)\n",
    "jsons = []\n",
    "for name in json_names:\n",
    "    json_path = path+name\n",
    "    with open(json_path,'r') as f:\n",
    "        jsons.append(json.load(f))\n",
    "# Create dataframe from jsons\n",
    "locations = [sample['location'] for sample in jsons]\n",
    "forecasts = [sample['forecast']['forecastday'] for sample in jsons]\n",
    "\n",
    "forecast_df = pd.DataFrame()\n",
    "for sample in forecasts:\n",
    "    current_df = pd.json_normalize(sample)\n",
    "    forecast_df = pd.concat([forecast_df,current_df],axis=0)\n",
    "forecast_df = forecast_df.reset_index()\n",
    "loc_df = pd.json_normalize(locations)\n",
    "\n",
    "flat_df = pd.concat([loc_df,forecast_df],axis=1)\n",
    "flat_df.columns = ['City','Region','Country','Lat','Long','TZ_ID','Localtime_epoch','Localtime','Index','Date','Date_Epoch',\\\n",
    "                   'Hourly_data','Maxtemp_C','Maxtemp_F','Mintemp_C','Mintemp_F','Avgtemp_C','Avgtemp_F','Maxwind_mph','Maxwind_kph',\\\n",
    "                    'Totalprecip_mm','Totalprecip_in','Totalsnow_cm','Avgvis_km','Avgvis_miles','Avghumidity','Tides',\\\n",
    "                    'Condition.text','Condition.icon','Condition.code','UV','Sunrise','Sunset','Moonrise','Moonset']"
   ]
  },
  {
   "cell_type": "markdown",
   "metadata": {},
   "source": [
    "### Removing redundant data"
   ]
  },
  {
   "cell_type": "code",
   "execution_count": null,
   "metadata": {},
   "outputs": [],
   "source": [
    "location = ['City','Region','Country','Lat','Long','TZ_ID','Localtime'] \n",
    "marine = ['Date','Hour','Maxtemp_C','Mintemp_C','Avgtemp_C','Maxwind_kph',\\\n",
    "        'Totalprecip_mm','Totalsnow_cm','Avgvis_km','Avghumidity','Tides','Condition.text',\\\n",
    "        'Condition.code','UV','Sunrise','Sunset','Moonrise','Moonset']\n",
    "flat_df[location+marine].iloc[0].Hour"
   ]
  },
  {
   "cell_type": "markdown",
   "metadata": {},
   "source": [
    "### Transformations required:\n",
    "- If not identifiable, drop row\n",
    "- Datetime from strings for : Date,Localtime, Sunrise, Sunset, Moonrise and Moonset\n",
    "- ..."
   ]
  },
  {
   "cell_type": "markdown",
   "metadata": {},
   "source": [
    "### Sports Data"
   ]
  },
  {
   "cell_type": "code",
   "execution_count": 64,
   "metadata": {},
   "outputs": [],
   "source": [
    "path = 'storage/sports/20231223/'\n",
    "json_names = os.listdir(path)\n",
    "jsons = []\n",
    "for name in json_names:\n",
    "    json_path = path+name\n",
    "    with open(json_path,'r') as f:\n",
    "        jsons.append(json.load(f))\n",
    "# Create dataframe from jsons\n",
    "df = pd.json_normalize(jsons)\n"
   ]
  },
  {
   "cell_type": "code",
   "execution_count": 70,
   "metadata": {},
   "outputs": [
    {
     "data": {
      "text/html": [
       "<div>\n",
       "<style scoped>\n",
       "    .dataframe tbody tr th:only-of-type {\n",
       "        vertical-align: middle;\n",
       "    }\n",
       "\n",
       "    .dataframe tbody tr th {\n",
       "        vertical-align: top;\n",
       "    }\n",
       "\n",
       "    .dataframe thead th {\n",
       "        text-align: right;\n",
       "    }\n",
       "</style>\n",
       "<table border=\"1\" class=\"dataframe\">\n",
       "  <thead>\n",
       "    <tr style=\"text-align: right;\">\n",
       "      <th></th>\n",
       "      <th>stadium</th>\n",
       "      <th>country</th>\n",
       "      <th>region</th>\n",
       "      <th>tournament</th>\n",
       "      <th>start</th>\n",
       "      <th>match</th>\n",
       "    </tr>\n",
       "  </thead>\n",
       "  <tbody>\n",
       "    <tr>\n",
       "      <th>0</th>\n",
       "      <td>Kingstonian Fc</td>\n",
       "      <td>United Kingdom</td>\n",
       "      <td></td>\n",
       "      <td>Isthmian League</td>\n",
       "      <td>2023-12-26 15:00</td>\n",
       "      <td>Kingstonian vs Chatham Town</td>\n",
       "    </tr>\n",
       "    <tr>\n",
       "      <th>1</th>\n",
       "      <td>Slough Town F.C</td>\n",
       "      <td>United Kingdom</td>\n",
       "      <td></td>\n",
       "      <td>National League South</td>\n",
       "      <td>2023-12-26 13:00</td>\n",
       "      <td>Slough vs Hampton &amp; Richmond</td>\n",
       "    </tr>\n",
       "    <tr>\n",
       "      <th>2</th>\n",
       "      <td>Hayes Fc</td>\n",
       "      <td>United Kingdom</td>\n",
       "      <td></td>\n",
       "      <td>Southern Premier League South</td>\n",
       "      <td>2023-12-26 15:00</td>\n",
       "      <td>Hayes &amp; Yeading vs Hanwell Town</td>\n",
       "    </tr>\n",
       "    <tr>\n",
       "      <th>3</th>\n",
       "      <td>Brentford Fc</td>\n",
       "      <td>United Kingdom</td>\n",
       "      <td></td>\n",
       "      <td>Premier League</td>\n",
       "      <td>2023-12-27 19:30</td>\n",
       "      <td>Brentford vs Wolverhampton Wanderers</td>\n",
       "    </tr>\n",
       "    <tr>\n",
       "      <th>4</th>\n",
       "      <td>Aldershot Town</td>\n",
       "      <td>United Kingdom</td>\n",
       "      <td></td>\n",
       "      <td>National League</td>\n",
       "      <td>2023-12-26 15:00</td>\n",
       "      <td>Aldershot Town vs Woking</td>\n",
       "    </tr>\n",
       "    <tr>\n",
       "      <th>5</th>\n",
       "      <td>Chelsea</td>\n",
       "      <td>United Kingdom</td>\n",
       "      <td></td>\n",
       "      <td>Premier League</td>\n",
       "      <td>2023-12-27 19:30</td>\n",
       "      <td>Chelsea vs Crystal Palace</td>\n",
       "    </tr>\n",
       "    <tr>\n",
       "      <th>6</th>\n",
       "      <td>Harrow Borough Fc</td>\n",
       "      <td>United Kingdom</td>\n",
       "      <td></td>\n",
       "      <td>Southern Premier League South</td>\n",
       "      <td>2023-12-26 15:00</td>\n",
       "      <td>Harrow Borough vs Hendon</td>\n",
       "    </tr>\n",
       "    <tr>\n",
       "      <th>7</th>\n",
       "      <td>Maidenhead United Fc</td>\n",
       "      <td>United Kingdom</td>\n",
       "      <td></td>\n",
       "      <td>National League</td>\n",
       "      <td>2023-12-26 15:00</td>\n",
       "      <td>Maidenhead United vs Wealdstone</td>\n",
       "    </tr>\n",
       "    <tr>\n",
       "      <th>8</th>\n",
       "      <td>Crystal Palace</td>\n",
       "      <td>United Kingdom</td>\n",
       "      <td></td>\n",
       "      <td>Premier League</td>\n",
       "      <td>2023-12-30 15:00</td>\n",
       "      <td>Crystal Palace vs Brentford</td>\n",
       "    </tr>\n",
       "    <tr>\n",
       "      <th>9</th>\n",
       "      <td>Dulwich Hamlet</td>\n",
       "      <td>United Kingdom</td>\n",
       "      <td></td>\n",
       "      <td>Isthmian League</td>\n",
       "      <td>2023-12-26 15:00</td>\n",
       "      <td>Dulwich Hamlet vs Carshalton Athletic</td>\n",
       "    </tr>\n",
       "    <tr>\n",
       "      <th>10</th>\n",
       "      <td>Benfica</td>\n",
       "      <td>Portugal</td>\n",
       "      <td></td>\n",
       "      <td>Portuguese Primeira Liga</td>\n",
       "      <td>2023-12-29 18:45</td>\n",
       "      <td>Benfica vs FC Famalicao</td>\n",
       "    </tr>\n",
       "    <tr>\n",
       "      <th>11</th>\n",
       "      <td>Lazio</td>\n",
       "      <td>Italy</td>\n",
       "      <td></td>\n",
       "      <td>Italian Serie A</td>\n",
       "      <td>2023-12-29 19:45</td>\n",
       "      <td>Lazio vs Frosinone</td>\n",
       "    </tr>\n",
       "    <tr>\n",
       "      <th>12</th>\n",
       "      <td>Anderlecht Rsc</td>\n",
       "      <td>Belgium</td>\n",
       "      <td></td>\n",
       "      <td>Belgian First Division A</td>\n",
       "      <td>2023-12-27 19:45</td>\n",
       "      <td>Anderlecht vs Cercle Brugge KSV</td>\n",
       "    </tr>\n",
       "    <tr>\n",
       "      <th>13</th>\n",
       "      <td>Charleroi Sc</td>\n",
       "      <td>Belgium</td>\n",
       "      <td></td>\n",
       "      <td>Belgian First Division A</td>\n",
       "      <td>2023-12-27 19:45</td>\n",
       "      <td>Charleroi vs Mechelen</td>\n",
       "    </tr>\n",
       "    <tr>\n",
       "      <th>14</th>\n",
       "      <td>Stadio Artemio Franchi, Florence</td>\n",
       "      <td>Italy</td>\n",
       "      <td></td>\n",
       "      <td>Italian Serie A</td>\n",
       "      <td>2023-12-29 17:30</td>\n",
       "      <td>Fiorentina vs Torino</td>\n",
       "    </tr>\n",
       "  </tbody>\n",
       "</table>\n",
       "</div>"
      ],
      "text/plain": [
       "                             stadium         country region  \\\n",
       "0                     Kingstonian Fc  United Kingdom          \n",
       "1                    Slough Town F.C  United Kingdom          \n",
       "2                           Hayes Fc  United Kingdom          \n",
       "3                       Brentford Fc  United Kingdom          \n",
       "4                     Aldershot Town  United Kingdom          \n",
       "5                            Chelsea  United Kingdom          \n",
       "6                  Harrow Borough Fc  United Kingdom          \n",
       "7               Maidenhead United Fc  United Kingdom          \n",
       "8                     Crystal Palace  United Kingdom          \n",
       "9                     Dulwich Hamlet  United Kingdom          \n",
       "10                           Benfica        Portugal          \n",
       "11                             Lazio           Italy          \n",
       "12                    Anderlecht Rsc         Belgium          \n",
       "13                      Charleroi Sc         Belgium          \n",
       "14  Stadio Artemio Franchi, Florence           Italy          \n",
       "\n",
       "                       tournament             start  \\\n",
       "0                 Isthmian League  2023-12-26 15:00   \n",
       "1           National League South  2023-12-26 13:00   \n",
       "2   Southern Premier League South  2023-12-26 15:00   \n",
       "3                  Premier League  2023-12-27 19:30   \n",
       "4                 National League  2023-12-26 15:00   \n",
       "5                  Premier League  2023-12-27 19:30   \n",
       "6   Southern Premier League South  2023-12-26 15:00   \n",
       "7                 National League  2023-12-26 15:00   \n",
       "8                  Premier League  2023-12-30 15:00   \n",
       "9                 Isthmian League  2023-12-26 15:00   \n",
       "10       Portuguese Primeira Liga  2023-12-29 18:45   \n",
       "11                Italian Serie A  2023-12-29 19:45   \n",
       "12       Belgian First Division A  2023-12-27 19:45   \n",
       "13       Belgian First Division A  2023-12-27 19:45   \n",
       "14                Italian Serie A  2023-12-29 17:30   \n",
       "\n",
       "                                    match  \n",
       "0             Kingstonian vs Chatham Town  \n",
       "1            Slough vs Hampton & Richmond  \n",
       "2         Hayes & Yeading vs Hanwell Town  \n",
       "3    Brentford vs Wolverhampton Wanderers  \n",
       "4                Aldershot Town vs Woking  \n",
       "5               Chelsea vs Crystal Palace  \n",
       "6                Harrow Borough vs Hendon  \n",
       "7         Maidenhead United vs Wealdstone  \n",
       "8             Crystal Palace vs Brentford  \n",
       "9   Dulwich Hamlet vs Carshalton Athletic  \n",
       "10                Benfica vs FC Famalicao  \n",
       "11                     Lazio vs Frosinone  \n",
       "12        Anderlecht vs Cercle Brugge KSV  \n",
       "13                  Charleroi vs Mechelen  \n",
       "14                   Fiorentina vs Torino  "
      ]
     },
     "execution_count": 70,
     "metadata": {},
     "output_type": "execute_result"
    }
   ],
   "source": [
    "# football_df = df[(df[\"football\"].str.len() != 0)|(df[\"cricket\"].str.len() != 0)|(df[\"golf\"].str.len() != 0)]\n",
    "football_df = pd.json_normalize(jsons,record_path='football')\n",
    "golf_df = pd.json_normalize(jsons,record_path='golf')\n",
    "cricket_df = pd.json_normalize(jsons,record_path='cricket')\n",
    "flat_df = pd.concat([football_df,golf_df,cricket_df],axis=0)\n",
    "flat_df"
   ]
  },
  {
   "cell_type": "markdown",
   "metadata": {},
   "source": [
    "### Transformations required:\n",
    "- Drop all rows containing only empty lists\n",
    "- Datetime from strings for : start\n",
    "- Replace empty string with null (region)"
   ]
  }
 ],
 "metadata": {
  "kernelspec": {
   "display_name": "venv",
   "language": "python",
   "name": "python3"
  },
  "language_info": {
   "codemirror_mode": {
    "name": "ipython",
    "version": 3
   },
   "file_extension": ".py",
   "mimetype": "text/x-python",
   "name": "python",
   "nbconvert_exporter": "python",
   "pygments_lexer": "ipython3",
   "version": "3.11.2"
  }
 },
 "nbformat": 4,
 "nbformat_minor": 2
}
